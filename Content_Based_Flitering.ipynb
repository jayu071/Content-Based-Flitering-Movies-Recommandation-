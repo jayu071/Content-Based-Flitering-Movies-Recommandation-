{
  "nbformat": 4,
  "nbformat_minor": 0,
  "metadata": {
    "kernelspec": {
      "display_name": "Python 3",
      "language": "python",
      "name": "python3"
    },
    "language_info": {
      "codemirror_mode": {
        "name": "ipython",
        "version": 3
      },
      "file_extension": ".py",
      "mimetype": "text/x-python",
      "name": "python",
      "nbconvert_exporter": "python",
      "pygments_lexer": "ipython3",
      "version": "3.7.4"
    },
    "colab": {
      "provenance": [],
      "include_colab_link": true
    },
    "gpuClass": "standard"
  },
  "cells": [
    {
      "cell_type": "markdown",
      "metadata": {
        "id": "view-in-github",
        "colab_type": "text"
      },
      "source": [
        "<a href=\"https://colab.research.google.com/github/jayu071/Content-Based-Flitering-Movies-Recommandation-/blob/main/Content_Based_Flitering.ipynb\" target=\"_parent\"><img src=\"https://colab.research.google.com/assets/colab-badge.svg\" alt=\"Open In Colab\"/></a>"
      ]
    },
    {
      "cell_type": "markdown",
      "metadata": {
        "id": "y8Ce9sjrOrPh"
      },
      "source": [
        "# <u><b> Content-Based Filtering </b></u>\n",
        "\n",
        "### We all have used services like Netflix, Amazon, and Youtube. These services use very sophisticated systems to recommend the best items to their users to make their experiences great. But, how do they achieve such great systems?  \n",
        "### Content-Based recommender system tries to guess the features or behavior of a user given the item’s features, he/she reacts positively to.This method uses only information about the description and attributes of the items users has previously consumed to model user's preferences. In other words, these algorithms try to recommend items that are similar to those that a user liked in the past (or is examining in the present). In particular, various candidate items are compared with items previously rated by the user and the best-matching items are recommended. "
      ]
    },
    {
      "cell_type": "markdown",
      "metadata": {
        "_cell_guid": "20749719-df2b-41ed-970d-a682777d26bd",
        "_uuid": "cd82970851a3b35155770dc48c85f8721f970df9",
        "id": "UrwcXaDLOrPi"
      },
      "source": [
        "* ### Content-based filtering approaches leverage description or attributes from items the user has interacted to recommend similar items. It depends only on the user previous choices, making this method robust to avoid the *cold-start* problem. For textual items, like articles, news and books, it is simple to use the raw text to build item profiles and user profiles.  \n",
        "\n",
        "* ### Here we are using a very popular technique in information retrieval (search engines) named [TF-IDF](https://en.wikipedia.org/wiki/Tf%E2%80%93idf). This technique converts unstructured text into a vector structure, where each word is represented by a position in the vector, and the value measures how relevant a given word is for an article. In this session, you will learn how to build a basic model of simple and content-based recommender systems. "
      ]
    },
    {
      "cell_type": "code",
      "metadata": {
        "_cell_guid": "719f3966-e6fd-49c8-9f60-7bd741542450",
        "_uuid": "b61cd3125a7f8f991fc1bda85ae3cd26f74090ae",
        "id": "z1bhhriTOrPj"
      },
      "source": [
        "import numpy as np\n",
        "import pandas as pd\n",
        "import sklearn\n",
        "from nltk.corpus import stopwords\n",
        "from sklearn.feature_extraction.text import TfidfVectorizer\n",
        "from sklearn.metrics.pairwise import linear_kernel"
      ],
      "execution_count": null,
      "outputs": []
    },
    {
      "cell_type": "code",
      "source": [
        "from google.colab import drive\n",
        "drive.mount('/content/drive')"
      ],
      "metadata": {
        "id": "vBQCnq8alIH6",
        "colab": {
          "base_uri": "https://localhost:8080/"
        },
        "outputId": "b1d64ee7-11fe-4922-d5a2-aa057e4d2422"
      },
      "execution_count": null,
      "outputs": [
        {
          "output_type": "stream",
          "name": "stdout",
          "text": [
            "Mounted at /content/drive\n"
          ]
        }
      ]
    },
    {
      "cell_type": "markdown",
      "source": [
        "###Recommender systems are among the most popular applications of data science today. They are used to predict the \"rating\" or \"preference\" that a user would give to an item. Almost every major tech company has applied them in some form. Amazon uses it to suggest products to customers, YouTube uses it to decide which video to play next on autoplay, and Facebook uses it to recommend pages to like and people to follow.  \n",
        "###Recommender systems have also been developed to explore research articles and experts, collaborators, and financial services. YouTube uses the recommendation system at a large scale to suggest you videos based on your history. "
      ],
      "metadata": {
        "id": "Qg1Pb2-OCMym"
      }
    },
    {
      "cell_type": "code",
      "metadata": {
        "_cell_guid": "e601f966-d03f-4edc-886f-ca3d511a8045",
        "_uuid": "569c301bd128f66f29b4d97c34171e4d1712015a",
        "scrolled": true,
        "id": "MdLV6kTfOrPk",
        "colab": {
          "base_uri": "https://localhost:8080/",
          "height": 787
        },
        "outputId": "c15d7d91-6cc2-44e5-9a9e-2b75f0f96cd2"
      },
      "source": [
        "# Load Movies Metadata\n",
        "movies_df = pd.read_csv('/content/drive/MyDrive/Datasets/movies_metadata.csv')\n",
        "\n",
        "# Print the first five rows\n",
        "movies_df.head()"
      ],
      "execution_count": null,
      "outputs": [
        {
          "output_type": "stream",
          "name": "stderr",
          "text": [
            "/usr/local/lib/python3.7/dist-packages/IPython/core/interactiveshell.py:3326: DtypeWarning: Columns (10) have mixed types.Specify dtype option on import or set low_memory=False.\n",
            "  exec(code_obj, self.user_global_ns, self.user_ns)\n"
          ]
        },
        {
          "output_type": "execute_result",
          "data": {
            "text/plain": [
              "   adult                              belongs_to_collection    budget  \\\n",
              "0  False  {'id': 10194, 'name': 'Toy Story Collection', ...  30000000   \n",
              "1  False                                                NaN  65000000   \n",
              "2  False  {'id': 119050, 'name': 'Grumpy Old Men Collect...         0   \n",
              "3  False                                                NaN  16000000   \n",
              "4  False  {'id': 96871, 'name': 'Father of the Bride Col...         0   \n",
              "\n",
              "                                              genres  \\\n",
              "0  [{'id': 16, 'name': 'Animation'}, {'id': 35, '...   \n",
              "1  [{'id': 12, 'name': 'Adventure'}, {'id': 14, '...   \n",
              "2  [{'id': 10749, 'name': 'Romance'}, {'id': 35, ...   \n",
              "3  [{'id': 35, 'name': 'Comedy'}, {'id': 18, 'nam...   \n",
              "4                     [{'id': 35, 'name': 'Comedy'}]   \n",
              "\n",
              "                               homepage     id    imdb_id original_language  \\\n",
              "0  http://toystory.disney.com/toy-story    862  tt0114709                en   \n",
              "1                                   NaN   8844  tt0113497                en   \n",
              "2                                   NaN  15602  tt0113228                en   \n",
              "3                                   NaN  31357  tt0114885                en   \n",
              "4                                   NaN  11862  tt0113041                en   \n",
              "\n",
              "                original_title  \\\n",
              "0                    Toy Story   \n",
              "1                      Jumanji   \n",
              "2             Grumpier Old Men   \n",
              "3            Waiting to Exhale   \n",
              "4  Father of the Bride Part II   \n",
              "\n",
              "                                            overview  ... release_date  \\\n",
              "0  Led by Woody, Andy's toys live happily in his ...  ...   1995-10-30   \n",
              "1  When siblings Judy and Peter discover an encha...  ...   1995-12-15   \n",
              "2  A family wedding reignites the ancient feud be...  ...   1995-12-22   \n",
              "3  Cheated on, mistreated and stepped on, the wom...  ...   1995-12-22   \n",
              "4  Just when George Banks has recovered from his ...  ...   1995-02-10   \n",
              "\n",
              "       revenue runtime                                   spoken_languages  \\\n",
              "0  373554033.0    81.0           [{'iso_639_1': 'en', 'name': 'English'}]   \n",
              "1  262797249.0   104.0  [{'iso_639_1': 'en', 'name': 'English'}, {'iso...   \n",
              "2          0.0   101.0           [{'iso_639_1': 'en', 'name': 'English'}]   \n",
              "3   81452156.0   127.0           [{'iso_639_1': 'en', 'name': 'English'}]   \n",
              "4   76578911.0   106.0           [{'iso_639_1': 'en', 'name': 'English'}]   \n",
              "\n",
              "     status                                            tagline  \\\n",
              "0  Released                                                NaN   \n",
              "1  Released          Roll the dice and unleash the excitement!   \n",
              "2  Released  Still Yelling. Still Fighting. Still Ready for...   \n",
              "3  Released  Friends are the people who let you be yourself...   \n",
              "4  Released  Just When His World Is Back To Normal... He's ...   \n",
              "\n",
              "                         title  video vote_average vote_count  \n",
              "0                    Toy Story  False          7.7     5415.0  \n",
              "1                      Jumanji  False          6.9     2413.0  \n",
              "2             Grumpier Old Men  False          6.5       92.0  \n",
              "3            Waiting to Exhale  False          6.1       34.0  \n",
              "4  Father of the Bride Part II  False          5.7      173.0  \n",
              "\n",
              "[5 rows x 24 columns]"
            ],
            "text/html": [
              "\n",
              "  <div id=\"df-b6584c03-8b64-402f-a13f-02e957278013\">\n",
              "    <div class=\"colab-df-container\">\n",
              "      <div>\n",
              "<style scoped>\n",
              "    .dataframe tbody tr th:only-of-type {\n",
              "        vertical-align: middle;\n",
              "    }\n",
              "\n",
              "    .dataframe tbody tr th {\n",
              "        vertical-align: top;\n",
              "    }\n",
              "\n",
              "    .dataframe thead th {\n",
              "        text-align: right;\n",
              "    }\n",
              "</style>\n",
              "<table border=\"1\" class=\"dataframe\">\n",
              "  <thead>\n",
              "    <tr style=\"text-align: right;\">\n",
              "      <th></th>\n",
              "      <th>adult</th>\n",
              "      <th>belongs_to_collection</th>\n",
              "      <th>budget</th>\n",
              "      <th>genres</th>\n",
              "      <th>homepage</th>\n",
              "      <th>id</th>\n",
              "      <th>imdb_id</th>\n",
              "      <th>original_language</th>\n",
              "      <th>original_title</th>\n",
              "      <th>overview</th>\n",
              "      <th>...</th>\n",
              "      <th>release_date</th>\n",
              "      <th>revenue</th>\n",
              "      <th>runtime</th>\n",
              "      <th>spoken_languages</th>\n",
              "      <th>status</th>\n",
              "      <th>tagline</th>\n",
              "      <th>title</th>\n",
              "      <th>video</th>\n",
              "      <th>vote_average</th>\n",
              "      <th>vote_count</th>\n",
              "    </tr>\n",
              "  </thead>\n",
              "  <tbody>\n",
              "    <tr>\n",
              "      <th>0</th>\n",
              "      <td>False</td>\n",
              "      <td>{'id': 10194, 'name': 'Toy Story Collection', ...</td>\n",
              "      <td>30000000</td>\n",
              "      <td>[{'id': 16, 'name': 'Animation'}, {'id': 35, '...</td>\n",
              "      <td>http://toystory.disney.com/toy-story</td>\n",
              "      <td>862</td>\n",
              "      <td>tt0114709</td>\n",
              "      <td>en</td>\n",
              "      <td>Toy Story</td>\n",
              "      <td>Led by Woody, Andy's toys live happily in his ...</td>\n",
              "      <td>...</td>\n",
              "      <td>1995-10-30</td>\n",
              "      <td>373554033.0</td>\n",
              "      <td>81.0</td>\n",
              "      <td>[{'iso_639_1': 'en', 'name': 'English'}]</td>\n",
              "      <td>Released</td>\n",
              "      <td>NaN</td>\n",
              "      <td>Toy Story</td>\n",
              "      <td>False</td>\n",
              "      <td>7.7</td>\n",
              "      <td>5415.0</td>\n",
              "    </tr>\n",
              "    <tr>\n",
              "      <th>1</th>\n",
              "      <td>False</td>\n",
              "      <td>NaN</td>\n",
              "      <td>65000000</td>\n",
              "      <td>[{'id': 12, 'name': 'Adventure'}, {'id': 14, '...</td>\n",
              "      <td>NaN</td>\n",
              "      <td>8844</td>\n",
              "      <td>tt0113497</td>\n",
              "      <td>en</td>\n",
              "      <td>Jumanji</td>\n",
              "      <td>When siblings Judy and Peter discover an encha...</td>\n",
              "      <td>...</td>\n",
              "      <td>1995-12-15</td>\n",
              "      <td>262797249.0</td>\n",
              "      <td>104.0</td>\n",
              "      <td>[{'iso_639_1': 'en', 'name': 'English'}, {'iso...</td>\n",
              "      <td>Released</td>\n",
              "      <td>Roll the dice and unleash the excitement!</td>\n",
              "      <td>Jumanji</td>\n",
              "      <td>False</td>\n",
              "      <td>6.9</td>\n",
              "      <td>2413.0</td>\n",
              "    </tr>\n",
              "    <tr>\n",
              "      <th>2</th>\n",
              "      <td>False</td>\n",
              "      <td>{'id': 119050, 'name': 'Grumpy Old Men Collect...</td>\n",
              "      <td>0</td>\n",
              "      <td>[{'id': 10749, 'name': 'Romance'}, {'id': 35, ...</td>\n",
              "      <td>NaN</td>\n",
              "      <td>15602</td>\n",
              "      <td>tt0113228</td>\n",
              "      <td>en</td>\n",
              "      <td>Grumpier Old Men</td>\n",
              "      <td>A family wedding reignites the ancient feud be...</td>\n",
              "      <td>...</td>\n",
              "      <td>1995-12-22</td>\n",
              "      <td>0.0</td>\n",
              "      <td>101.0</td>\n",
              "      <td>[{'iso_639_1': 'en', 'name': 'English'}]</td>\n",
              "      <td>Released</td>\n",
              "      <td>Still Yelling. Still Fighting. Still Ready for...</td>\n",
              "      <td>Grumpier Old Men</td>\n",
              "      <td>False</td>\n",
              "      <td>6.5</td>\n",
              "      <td>92.0</td>\n",
              "    </tr>\n",
              "    <tr>\n",
              "      <th>3</th>\n",
              "      <td>False</td>\n",
              "      <td>NaN</td>\n",
              "      <td>16000000</td>\n",
              "      <td>[{'id': 35, 'name': 'Comedy'}, {'id': 18, 'nam...</td>\n",
              "      <td>NaN</td>\n",
              "      <td>31357</td>\n",
              "      <td>tt0114885</td>\n",
              "      <td>en</td>\n",
              "      <td>Waiting to Exhale</td>\n",
              "      <td>Cheated on, mistreated and stepped on, the wom...</td>\n",
              "      <td>...</td>\n",
              "      <td>1995-12-22</td>\n",
              "      <td>81452156.0</td>\n",
              "      <td>127.0</td>\n",
              "      <td>[{'iso_639_1': 'en', 'name': 'English'}]</td>\n",
              "      <td>Released</td>\n",
              "      <td>Friends are the people who let you be yourself...</td>\n",
              "      <td>Waiting to Exhale</td>\n",
              "      <td>False</td>\n",
              "      <td>6.1</td>\n",
              "      <td>34.0</td>\n",
              "    </tr>\n",
              "    <tr>\n",
              "      <th>4</th>\n",
              "      <td>False</td>\n",
              "      <td>{'id': 96871, 'name': 'Father of the Bride Col...</td>\n",
              "      <td>0</td>\n",
              "      <td>[{'id': 35, 'name': 'Comedy'}]</td>\n",
              "      <td>NaN</td>\n",
              "      <td>11862</td>\n",
              "      <td>tt0113041</td>\n",
              "      <td>en</td>\n",
              "      <td>Father of the Bride Part II</td>\n",
              "      <td>Just when George Banks has recovered from his ...</td>\n",
              "      <td>...</td>\n",
              "      <td>1995-02-10</td>\n",
              "      <td>76578911.0</td>\n",
              "      <td>106.0</td>\n",
              "      <td>[{'iso_639_1': 'en', 'name': 'English'}]</td>\n",
              "      <td>Released</td>\n",
              "      <td>Just When His World Is Back To Normal... He's ...</td>\n",
              "      <td>Father of the Bride Part II</td>\n",
              "      <td>False</td>\n",
              "      <td>5.7</td>\n",
              "      <td>173.0</td>\n",
              "    </tr>\n",
              "  </tbody>\n",
              "</table>\n",
              "<p>5 rows × 24 columns</p>\n",
              "</div>\n",
              "      <button class=\"colab-df-convert\" onclick=\"convertToInteractive('df-b6584c03-8b64-402f-a13f-02e957278013')\"\n",
              "              title=\"Convert this dataframe to an interactive table.\"\n",
              "              style=\"display:none;\">\n",
              "        \n",
              "  <svg xmlns=\"http://www.w3.org/2000/svg\" height=\"24px\"viewBox=\"0 0 24 24\"\n",
              "       width=\"24px\">\n",
              "    <path d=\"M0 0h24v24H0V0z\" fill=\"none\"/>\n",
              "    <path d=\"M18.56 5.44l.94 2.06.94-2.06 2.06-.94-2.06-.94-.94-2.06-.94 2.06-2.06.94zm-11 1L8.5 8.5l.94-2.06 2.06-.94-2.06-.94L8.5 2.5l-.94 2.06-2.06.94zm10 10l.94 2.06.94-2.06 2.06-.94-2.06-.94-.94-2.06-.94 2.06-2.06.94z\"/><path d=\"M17.41 7.96l-1.37-1.37c-.4-.4-.92-.59-1.43-.59-.52 0-1.04.2-1.43.59L10.3 9.45l-7.72 7.72c-.78.78-.78 2.05 0 2.83L4 21.41c.39.39.9.59 1.41.59.51 0 1.02-.2 1.41-.59l7.78-7.78 2.81-2.81c.8-.78.8-2.07 0-2.86zM5.41 20L4 18.59l7.72-7.72 1.47 1.35L5.41 20z\"/>\n",
              "  </svg>\n",
              "      </button>\n",
              "      \n",
              "  <style>\n",
              "    .colab-df-container {\n",
              "      display:flex;\n",
              "      flex-wrap:wrap;\n",
              "      gap: 12px;\n",
              "    }\n",
              "\n",
              "    .colab-df-convert {\n",
              "      background-color: #E8F0FE;\n",
              "      border: none;\n",
              "      border-radius: 50%;\n",
              "      cursor: pointer;\n",
              "      display: none;\n",
              "      fill: #1967D2;\n",
              "      height: 32px;\n",
              "      padding: 0 0 0 0;\n",
              "      width: 32px;\n",
              "    }\n",
              "\n",
              "    .colab-df-convert:hover {\n",
              "      background-color: #E2EBFA;\n",
              "      box-shadow: 0px 1px 2px rgba(60, 64, 67, 0.3), 0px 1px 3px 1px rgba(60, 64, 67, 0.15);\n",
              "      fill: #174EA6;\n",
              "    }\n",
              "\n",
              "    [theme=dark] .colab-df-convert {\n",
              "      background-color: #3B4455;\n",
              "      fill: #D2E3FC;\n",
              "    }\n",
              "\n",
              "    [theme=dark] .colab-df-convert:hover {\n",
              "      background-color: #434B5C;\n",
              "      box-shadow: 0px 1px 3px 1px rgba(0, 0, 0, 0.15);\n",
              "      filter: drop-shadow(0px 1px 2px rgba(0, 0, 0, 0.3));\n",
              "      fill: #FFFFFF;\n",
              "    }\n",
              "  </style>\n",
              "\n",
              "      <script>\n",
              "        const buttonEl =\n",
              "          document.querySelector('#df-b6584c03-8b64-402f-a13f-02e957278013 button.colab-df-convert');\n",
              "        buttonEl.style.display =\n",
              "          google.colab.kernel.accessAllowed ? 'block' : 'none';\n",
              "\n",
              "        async function convertToInteractive(key) {\n",
              "          const element = document.querySelector('#df-b6584c03-8b64-402f-a13f-02e957278013');\n",
              "          const dataTable =\n",
              "            await google.colab.kernel.invokeFunction('convertToInteractive',\n",
              "                                                     [key], {});\n",
              "          if (!dataTable) return;\n",
              "\n",
              "          const docLinkHtml = 'Like what you see? Visit the ' +\n",
              "            '<a target=\"_blank\" href=https://colab.research.google.com/notebooks/data_table.ipynb>data table notebook</a>'\n",
              "            + ' to learn more about interactive tables.';\n",
              "          element.innerHTML = '';\n",
              "          dataTable['output_type'] = 'display_data';\n",
              "          await google.colab.output.renderOutput(dataTable, element);\n",
              "          const docLink = document.createElement('div');\n",
              "          docLink.innerHTML = docLinkHtml;\n",
              "          element.appendChild(docLink);\n",
              "        }\n",
              "      </script>\n",
              "    </div>\n",
              "  </div>\n",
              "  "
            ]
          },
          "metadata": {},
          "execution_count": 3
        }
      ]
    },
    {
      "cell_type": "markdown",
      "source": [
        "# <u><b> Simple Recommenders </b></u>\n",
        "###Simple recommenders are basic systems that recommend the top items based on a certain metric or score.  \n",
        "###The following are the steps involved:\n",
        "\n",
        "1. Decide on the metric or score to rate movies on.\n",
        "\n",
        "2. Calculate the score for every movie.\n",
        "\n",
        "3. Sort the movies based on the score and output the top results.  \n",
        "\n",
        "###One of the most basic metrics you can think of is the ranking to decide which top movies are, based on their respective ratings.However, using a rating as a metric has a few caveats:\n",
        "\n",
        "1. For one, it does not take into consideration the popularity of a movie. Therefore, a movie with a rating of 9 from 10 voters will be considered 'better' than a movie with a rating of 8.9 from 10,000 voters.\n",
        "\n",
        "2. On a related note, this metric will also tend to favor movies with a smaller number of voters with skewed and/or extremely high ratings. As the number of voters increases, the rating of a movie regularizes and approaches towards a value that is reflective of the movie's quality and gives the user a much better idea as to which movie he/she should choose. While it is difficult to discern the quality of a movie with extremely few voters, you might have to consider external sources to conclude.\n",
        "###Taking these shortcomings into consideration, you must come up with a weighted rating that takes into account the average rating and the number of votes it has accumulated. Such a system will make sure that a movie with a 9 rating from 100,000 voters gets a (far) higher score than a movie with the same rating but a mere few hundred voters. This weight system is employed by IMDB. Mathematically, it is represented as follows:\n",
        "\n",
        "![image.png](data:image/png;base64,iVBORw0KGgoAAAANSUhEUgAAAxkAAABzCAIAAAB7BlgJAAAAAXNSR0IArs4c6QAAIABJREFUeJzt3X9QU+e6L/Dvudwsh0M60HhozIEtxWNMD5A7TtjDCXf4sUehY8ShjdXB0iOyS7FDYVepV9QpF48OHRFvi1aRuwV3Kd6y5UhNNyPiFGQKOCfZTJNxToDTGLc0nLBjyjWFaXKZrgzT+0d+EH5JCIQEfT7jH4HErAVrkfWs533e5/2bX375BYQQQgghxCf/JdA7QAghhBCyhlEsRQghhBDiO4qlCCGEEEJ8R7EUIYQQQojvKJYihBBCCPEdxVKEEEIIIb6jWIoQQgghxHcUSxFCCCGE+I5iKUIIIYQQ31EsRQghhBDiO4qlCCGEEEJ8R7EUIYQQQojvKJYihBBCCPEdxVKEEEIIIb6jWIoQQgghxHcUSxFCCCGE+I5iKUIIIYQQ31EsRQghhBDiO4qlCCGEEEJ8R7EUIYQQQojvKJYihBBCCPEdxVKEEEIIIb6jWIoQQgghxHcUSxFCCCGE+I5iKULIKrMZrp3I2P5204A90HtCvGTuOpST8W6j3hroHfEzS0/N/u055e3jgd4R4hVL24kM2ZGmAVugd4RiKULIqrLpr1QUNJrl1RfzEjiB3hniJX7GR+Xyibaid+sHn91wytRZfei0SlDyaWVWRKD3hXiFl11+YcePDUf/R4M6wOEUxVKEkNVjaq0sajFKSs4UJ4YFel/IUnDFxR8XSiwdh448m9kpa399WZUK2eWVcn6g94V4Lyy+5MyxLZam8orAZqcoliKErBKT4sT+Op2ALldrVJSsslImeNhW9GGHaSrQO7OiWHV90YkOU0JhdYmYCfTOkKUJ4Wd9VJ4TPtxwtLJ9NGB7QbEUIWRVDLeevqRjI2XHD9Llaq1iEguri0TsQH3ZJS0b6J1ZMVZVbXmHgREdPyEThAR6Z4gPuOLij/OlrO7skYCNQVMsRQjxP6u29kTzIKJLzxTGhwZ6Z8gyCOSHj8XB0FZTH+gKlZUxZW7/sEbBcuTHyzM2BHpniM+iskuLRBjrqLoamCifYilCiL/ZNHXVLWOIySmWxwZ6X8gyhfCzPsiNx3hL+RXV2i+cMinOnx2wM0klhelUwLe2CeTFpbEwtFXW9gQgyqdYihDiX2z/52fv2BAuO75fFOh9ISsh9rWS7DCwfTV1mrU90jfaVlOnA0Slh1K5gd4Xslwh0VlFMgHsigufa1Y9yqdYihDiT1O66590mcDJKNpLo3vPCk78/oMZDEx3LjXdX7tNwsZ7L32hAmJy8rNodO+ZwCTuLU7iYKKrpnG1R/r+6+pujhDyfLG0NTaMAeGyN7cFTc+exx1lb9Wr5nxbWlJXLecDsChOvH5J5/GM6NgXZ+hyOwMv9U35Z10t402X/pT5+z0xa7Bkm1XfqO23A+IDewKZLrXcqT7aPOx4/GTMbGFFx744kxVqVCkar3c/ejA6bgW4PL4k+Y0DBRnCcGDKPNjW8WXnnzXDZgsLhEYIRb9+8+CBDBGNUQKISNsvi+lvMyjq27M+Xc2KAspLEUL8ZlL1+RUdgLSDrwuD53IbwlkfxRduCPOYTsiJieKvD13n/Cr0RdeznJgovjDqxReCZ+eDhnBPbhqA4Rs3763FInRje12HCRDsyc3gBXRHJn/Uj5od/ywsAFjvNxbte7+8zRazI7fyaLYkFFaLubf9csG79RpdR/lrRUVX/gxx9vGK9/I2czA5rr/fdfq93zWs4QThiop7/UAiAGNts2o1U1N/88svv6zi5gghzxFTy/s5V4xgUs/fLJUE3QCfUfHO+zXOjABHfur/lKZM92G33jm585wWie/drs6gSpoF2DVV/3y4047Y/JaGbEGg92ZJ2Hs1O0/2sYgu/exT+cZA7w2gv1pU0Gx2fxmTWXbhqJQXAszJkjKbsy9U58eHA5iZYU0qvX2Gqr6AAB1cyksRQvxjStfZYgQgyN4ZfIEUgOjMPWLXY7uirWe6XHVKd/OKFuDIs9Pp4rQwjmSXTABg+Ivr99ZWUmS8t62PBZCYnRkEgRSA9TyPEfBw2fFDzkAKAG/jJo8XikpPuQIpABuiY9zP9H9n8PNOrhVM8s68cKxyaopiKUKIX7DK200TAPj7dgTp9D1u+p4c92VJ3XxzyPnQueexe3cn04qBT5WQsS8KsyPR4DfS+6UaAORZwRgrC3akLThLI2lnOtXtLSpElC7nA2A7O3otq7RNiqUIIf7guvWPlUmDtqdUqHh3TrTri/GmNsddrLmzpY8F0vZkrMWS6tUVLc2KBgB1n2q1LlrLp2+/MQiASU1PCsZYOSZy4VkaGyKCMPgLQjHpsngA0H7TP746W6RYihDiB4+VX6sBQJguCeZKGkFmdprrsfMudqCjaQhgUnenB83EwyAmSEoTAoD2y05joPfFO1Par9tsAJCSnBCMQ89kJWyUvBoFAL2tvaZV2SDFUoSQlWdR9qoAICw9MXqx1wYUL/3NbPdkcu3nrVrVrQ4TEJ+/NyhrvIJPrDg9HAAGOzWrc9FarvsqBQsAGUm0LuQzLDohJQwAhrtUI6uxPYqlCCErzqzs1gEAk5YYF+h9WQQnXr433vWFQVFZ3mkHxG9kBncIGEREiekcABhWah4Hel+8MHiviwUA0X/fSg2ZnmXCxDQGAIxKtXmx164AiqUIIStt4oHaUcedIhYGeFe8sDHtjUTXY9bOAkymLC2wPYfWFOFWKQBAp9YGf6MpnbrHDgBRicLIQO8L8as4cRYAQNX/YBUmRlAsRQhZYez9b7sAAFLxK2thGCUiI8+zPVJ0ca50Lex2sGA2/4MEANDVv9oLdyzZsLZnAgCYJFHMYq8la1to7JbNAID+bwcm/b41iqXIs81maKksKO9aG5Uc83rYVpZXdLplONivUh4MOg0AICxh8xop307I2OeebBg0PYfWjKjYBEfseU+rD/CuLML68DvHHqaJNi3y0tViuVNdkFd09Noj93c01/6lIK/o7J1xDDQX5BUVVHVNv7qzpiCvqOCqDtC15BUV5NW0Tz/XVZVXVJDXPLiKOx/c+C+LHfM0VQO6RV66fBRLeWfKbp2wWSds7FSg9wSOnVlbnfECxTZ46X8UNNp2F2UE81SyRWzefiDx564rRwqqVJZgOP0WZ36gdoz1iF6OCvCueC06q0QWA4DhF+dTo/Ol2rRlKwCA/e770QDvytM9uO+M8l+OCppiKccaMh4f6eyEWT9qfjL5M3626UfNeovHp/3kuH7UrLeyAPt/R8360XGP0Su7YdSsHw3+YdbVEyNyNOO1Dzz0e8nUCq9tPHhhd1HbfE/EFX51UcZbYElRADnVN4sTgXlWFQU81hxdfdbOyp1VmumvU0pvnwpgn35z+++Kzg4B4MTwYLAw71y8ludR2zt7b+cKjRCKxLuy9mamR3Of9d45JkXlIYVVfuZ/ZTmv6Nra7SdbFn59TvXN4sSnv2Z6jdt5T1Q4z9Ufnr4hJyZMGMkViFKTd6Rlbo1mFjwcYfElZ449ev9sZ/Wh0FNXDwX95KPJ4QcPAQDh0YLwRV4bPJithdfuFgZ6L1aW++Pi6TgxUbz1G8Xp22TpKbE8X06vMEFsGPptwPCDh/asqGBs2gQAMBq0jgdBFOXz5Gd65Qs9Wdi78DlZfPdmsX92KVBYy/BAj7LnXt/A2M8mZ5jIiYmKFiZnvCGXxW8AAOv9xqMn2l4o+kN19uI5b25UtAAaE6DRDbPg+/WTc4VjqZis8vNJYB/erml0zo+N31Z4YBufCY3iAgiXHKgs3weLprG+6aEdAJjYvENvScKx3pVg5yblnv/QqGxtbNHZAY4w6bU3s18RbPS1ENSqbfpdZcNIWE71xeJEX25EuFvfOl+5k9XeKGvRARBujg3oPStXUlB+ftLYc65RYQGQnjCzobRjbwGLsu5yyygASHNK94ldP/ikWa/s+ry7r+Z+X+1VaUV1WZq/P1BGO07/rrFrctOxhjNZq/zhNdRYdkmHbWWFSe7jzvxdFF8IYNIy41aPCRNGcgH83bqFXxMaIeStAzzWuA19URjFBwCrRT9hd70A60PXTb+Jc+H32RuC6yn9qE0/2trb3Xo2NPadD8vykhe4YQjhZ5W91ZPXqGqrLN/4aaDuK7z12DjgeCD6hzWcDnwWrHshki+MAgDWYjZMl4xwYqKmQybWYjaMmg2jZo2yq4bhZx0sK86OXeqNliBWBGgAqHSPkL5ybe4nbdaQMO5KXQMnjc602ZqK8p8HVl1HfVWjYsRzvIXD28BbHwJYjV2t9V2tjcL0t97cqP7kmtYKSKd+9up9o/4hHjABUH9ngNSv82BWOJbibpZINgPJL+3r1NSMAgC7USxNds0uDuXHJ/MBJExpr5/sYwGw0QnpEs8+LkyUWBIllqTz8WqlYltp3YfLKgLVN1c3jNiB8V61sTjRp7/wyFhJZKxp9AsAS2mWY9dfO36ocXi9/NTVkhVMJIQJtkoECHNeq5LEW2Z95EXGSiJjAa3mtOPr2PSsVIlHECPZJpPvqC8o6zA8VpUfqa/7rHDBxQq88bjv7JFL7ZZNFZ+dyZhnZQNb76X6rgkAOvWQLWs1k+pTRsUnbQaIjhV4nj+inKa6HACTqprd1Qp3iBO6/fhn+cKQma+xdJXvvdzr/q8bXq+cuXorb0fZ1R0AbL0n9pf3I37/6brpDtoRzjeZlRjYnHvuomz6tmDKbuqpLz/XpWeByeGG8veVOacvHBTNf7ZEZRfmfKVqGVdd+kix9VN50HYSB9iR/3SUpDBR1KM5sCLSKuocnUhnjhhkHG8qjPd4nXWoraqssXcSYM3tl44M3C+trkgVLCWc4kbyGYAFTMM/WCFameM+0Xd2X017+J5r13NXpk7cHeX/ir9+Rd6QLN/UuOqTE+V3zK7PY44kK79wT0b8xunsJjuqUXxyqban8fRS3zw84u8d5+WE0TQBoT8DaD/VS0VLMp23zvqeeRq4MYnJWc6Hfcr++Up/Rh5pwJHvWO5sGkGcJAbgivZU5i7nVsmmVztWk5ds8fIaNqX9unHYChgm7SufVxzVaSYAQBi3QJJsWKd0nJjh4i1zskFMYvY+x+yGsY4v7y1rcN1076v2x3aw7M/z1/GExYhjGXCE6aWF21a1OoFV3qgdBpP5Wua8a1eFSndle+zPRMct5ZyTkPfr3yR6fDl8o3PesRKL8ut++NiOKIQj2PZeRY47yWQfbDl7feERGeGe3DQAMNbUdQXz2memkQeOB5KolwK7J8RL3Ljsig+k7i8N9y7Vdy9x5Y0N0Y6pfBg1P1mp3Zq0PmGBMdtKne3uKB+boqnlRVCYMvee/qDMHUiFiksv/+H8BzLPQAoAEyXJqb543otBvTleEjgudhh94uc1jvxVex6Tst2ZT1usgVu7Uj13gpLh3l09k/GbrcvdDW5K6bW7N29fzhUu50ZpSqftBwAk/drbNQd0/+5IaWRsXflVXa1D/64BnpIkc89VQeIr89/PueK7rqFH8z7vHVeIOV/E5hCT+3HX3ZarS7zHXTZje2MfC448c8FYXJi63SPJZFf0zD0JI6TbxB5f2tp75qmOMnW29QLY5ns7ohixxOOr8aZO7YIv5aXv2gYAUH9+c8DHza0Cq8VZ5hkTFdxjkcQDEyeeDqZg72pTLu3SE8l3ftSM/hi0gb7V8oPjAUX5QcLUdv70PXfUHl168ZRctMBdd0iYpOR06ZLz8XyBc06u+a9rNJZyLywA6HqUc0roh7TumZxsj1Y/O6thHug3M+liYZAUR7sCI2nSFi9DMoP6zyYA4Is3r3w+xjUVZcEkmWHIeT2ev7vP1Oj3ruSHkPei7/sxqVU7QsyFIrZAGdF8PQxA+rSO255z4AF0z11OfFzVPSOsMbXd1sxuUmJUdRoBjjw9caWyj+xD48J/8hxJSioAwNZ0SxWsLRLM3z90PQySv1/igyHj0tqIhLgTCY++D9bu56YR5+3QwvM8yCqy9NVf0U1Xk2bmZj09VAqJzspPXeon7TrXfzCM+Hcqn/96IoiSdzjDCFW3ZtblYfBeFxse5kwMsF3f3J/59GNNzxAnK2XFrk/LZBrSOgKj5K1e3mfbDENmAAj/p4SVr2vRDSgBPCVJ5mrsC36yeL6k6H/8u6sMKHpX+jIWyhj+zjElM9iWtbKolYNYNIkYLZ0xKjdnZVbX0rzTWFWPeuZQ4EDX9WEgXLYreeUmLnGfVmjLiF5xJA/YTuWcwC5I2NkJx4MgmipFliycs8Q/6pdedg6mjLPBemb+5MqYxWykjGngmTpvdHncEcq3LV7SwyRnyJd4XvKinNfgJ1b/NhJa4dpzT8KU7YKWNhOAIZXGIstwD4JMab+5Yxfmlh8YOlneD8CuuKctTpweT7Eoe1WQVic+7fpkGerqUfTdGnpkeGxDOF+a8kbhwYwYd9ZoQttSUV0/YGNDo+UFpcXy2IV+/xZ1xx+b21Q6s2EqLD7xtZKjrwlGtd8jShLn/mNzjWQxkphQjeKjG5/f01lYIDQibdtviw95jF5ZhjW6HwEAj752JGximSdKzU8AeJskoplhzZTN0N/b2d6l1Bn1FjuXFyvNeqtkv4Q354bJOtzXfvWrW/eHDVNh8YmyQjl3kWKpx48GnBczccw8LQdtqj91OO44Y7ILs+a8YOYvRFZ4aO/LY9rv2Ze2iB09FOym+1rTJABYlI7cW8QLkzqNEgBHIBYLHPs00lVzsl4xYmfCRXnHj+Ulef7sNkNLzaFGjTWUL80s/OCghBcCi7L50rU+zbDZwnJiol7JLHpvwRltix8y20C/DoAg9qWnJxEFmdlpV6arywc7NaacaPfAn6mnQwUwkRHrx8ZdN+h2RVtPYcp08yF9310TIMhMXk4C1TLiOczKydgmftpub9iUEA7VBACVegjSxKe8NFB+/Gtwdxgi8xs1ejZTidmRvORJT84PWfNfLUAwzo2wPAnWhNlzyay553n7KnrZmwa5IZsSt/E1Wsd0aa+sC3Gel3rLj4AfF9n0YywFUXJWeFvDBADtN/3jGTtcF9T7KgUblpcolmyQoF8DgO1R60vcI3rjGqUO215bcJH2x321Jy61jECY/tYHZ8rjN3KsQ62nj1wuGFv31ZlULoBJbcO7J3tEhXWfcW7+9rLiUsV64bW8hDnvM2VsP3HkrNoek1JY0SQTQqc4VVG07wbD2lmPNkLTxVLoKv9t15bswnO/LxcwxvaPTtS216jG4NwoYOm5cnhWw6H7rWX3AYDJPtXlEUtZdW2fnPiiawKSPSUVH0hjwmHquVT2UeUh9sy1gx71VVPGro8+quoxCxx7GDKsqDh+uMwRXC9YLMXqnOmieWb5AZaeK7XddgAxKaXVsyYYThm7Tlecvjfu/IVwje1HjxzO+xPD2llEFF/+Q44IwHc3j1TO7Jw0rrhQqQCcvZe4wOOOsncbf8o61nLou/IjrQ0nav7+xil3JG3trCloDKv84mPD4SO1rZUGvLdvuL5mNLH4gw+Pb43GSFv5O40N5e9/f/z3FZlzkmpeHbJHD+4DgHTRvsa85FeTLvf2u74cvtE5kO08T6Z0nS1GgJNVcuzlxhM1w67XqO/2PM5wnhiTqlttNiB6X9YySuKs2j+2TJ8zTEJ+ydyfegb+3/8KmABg1wwZ4cWsUlNbZXnrcqKbv03ILyvd5st9/DoaSVkrpsztTR45gkjZ8f1LPavXrVszjZ85dGYG3uTwgxnzbDa9PO88odnCpEfrpIu/zMNqHWt/xlIhouTMsIZWG4DeHq11hzPm0Pf3suHbk+PA3SBNg6YXwMRd5X/kCx2XsQntv6khr5h/gI9V1xeVd+hZjrRkussON27PgR3NqrbvDEiNBwyt9U3IvlohE7IqBgBsA3ozEmZeDKbM7R8cOTtgZxIKqytkghAAIvnhvV+/0zwIgPE4rq5iKbBhWWcuFjubFYkyt4lqh3Rsf49mIjUtHPBouWa4VrS/0ezZ19GTqe1kwQWtFRGeLa8E23L3KfrOah9ZIOItuIex8iNvff3bxkHgKcVS+vvOUGpG4mrKbhnW9jTX1/aY58/VzbO56KyThUpnXwB3ikvsbBA3qarZVa1whImHZtRoq642araWfFUi4Q47Mi5a3TBcsZSxs0UjzP9UyuM8CQdGYWi9XJOQf60p25nei/2n9LhG1ZC965ayJFM2o57by0M2ZnzAAgDDXXTcLUyalcr097kuIbb2Pl2eo2HXfyjbJxyDdyLuaDSuuO+fdLd6jFk50QCs97oULBAnS/d+vZGJYY1S4/qhLAal6utuzaBzQIQj2XOs4qBksRL2CMEmYAAA9CNGFtGLJbztlpFH+tElzsmagYPR/7eElz82GpyPNglo7dggZRxQalz9eWymoW972lUqZ99tjjA9v+IDWcySW6VMn5mGETMSg3AQ7QdXnegmgVeXbeJPEz+uzrpevKhNgA4AHhotEPtv/qY/YylAmJTGtHawAKZjDp2y0yZwJJB5v/5NInrVAGzt/+a8jFn7e7ogqdw634XwcUd5eYeeBRILKzzbFVo13/SASXolBsCk6mazMe3QaWEIWLWyHQA4c0bH7YN1J84O2AHx8ZOy6UG6WFECMIgZi9u7iqUgLTpTnDS3kNz20yQwo2vFuP5bR7GUaMucv1j2fn3ZBa0VEOw5NqN36Oife4YQk7PJfaT1Vx17GF18xGMPN4qSuRi0PqUYyPjAVdOjb3w/rXHWs9F5FR/vS5mnEZ+h+aN5NsfjO8e8El7ZMmtzOufsgbS4memfkbufdzN5F1K5gKm/Vw/MqJsZVt0a5u9Kiga0JkeFMpNa+VH2jFl+89dUe33IWDsLALHe3OUwyRlypq/FtUVT221NvkgSatfc6jABQnmGMASYNRTY0qXPyRdiXNWpAZCWlbyEP87RrtPlXfN8f4Os7veF8d7Na+Dy+IAZAEZ+eAIs1gyTE1/yh94S73eRPA+0teXzTRflSo6dP5YVG7RdywkJXn5Oy26VuirFNOr7dgAYUrZPhGWlOBLIEZJkZybZdEepBwCbpluDpHTJPD217JrGRhULgCPPTufCsSyd2aBsO/vu2RZGWlGSygUw+oMpMvXVpAjArunpYwGEy16d1VthpOOSYhyYM5V92LkiqzTOnbNxF0vJDsxoNm1/MOQYmvnV7Jvvye+0AwDApCfOKTgwtl/qMADTA0NTduuEUX+n8fC7jZrN2RXuJliPO+pbxoE5y6yO6jRW4GnFUlqlczwn4/zXN3vvOv91NZXKIwEYm+q6DHMrQx931DYa59vcsKO3gvDXs8N5g1bDAoAoUTwjvrSOGFnRa8n/CMCoane85/Z0V1hjnWCS5W9INgKjwwMsAEgP5ko9fxLX8iOS1JkZGu8P2WOzBgAYr1K7IeJXPRtNsX237tkwqe7ptE8X5rs7EThM3FUOACO9X6oBpO5KX0rLk7jCr1xHpPfGmWMprv/7uKPonepe7wbiXuC6/tdDs58n+ZKgZdM3Htm5fXfGW96eNjPJ6tznYUfdeXeK2qo5+97xpgFa0I34jh1oPrxrd5qs6GznU+fNuZtoPCv8m5dCiPg3OzgtbXYAinvq4nSp4d5dU/j2ZNdkdV5ymvSSTgVg4q5yKF8YpfmmH2lH5yu/nVDd6nRkXOyKkzkKYHoZqYKq4nRXrmVzdnUTAMDSc6sbAAQ7ZpcG69tvOFbSnjUBzaJV6wEgLEHkCpvcxVIpMxs0TH2nvgdgvpokV7uHrK2vzP4RhrquOytvjDW/3V2D6RXZMk/VVW/lu2fq6hXNjoE6afKMX8WinaUWKpZiolJLy/+iOtRmGus4dEl8+/iMGRP6tvk3xz78ywKbMw/0mwEgKjFhZvqHm/Le1RQAwEDX9VEAyMhMdr8nd2v2O1tn/CDTv2oH528vzKP2H1jSIVsiYfp2QWubO9vc1ak8MNWngGdYyZGkpzLd00OBTbdUybFdgwCTmbxgVd+ieKKsimNP3jrRMAYAGFOVV3V8dVH2PLcQTNu+O9C7EBR6795c5BVjvfXXhq0AHqtOK7RdJeJFXv8UDF9S8j8rRt8td/RMZocbKpoTv1jecgjeG2k7/G6jZpH2Hh1F2zsWfDI04/yN93z/M/QOnZkOi5+ZGO+tb9VMAjC3f9K2K3NGe/0ZQqJejgOmS6Yeff8Y8V4MJrAj2oFR+wubJcIgKyHwcywFCBOlTFsfC6BbqfngxQd3bIJMjxkiGyTpcVANAbD1qI37xr7tgrgiab57/dG/OK6mSCj86sLilxxrf18vAETv2zGriFKn7HQuYj8zp2J/oHWkmpKnF7lzd5aKm1ld9B/qXhYAMrZJZoV9euczInHc7FS5ddTZsoWRn3rqx597D2d3YVi0s5S7WGqeVlh/x48BTI6GXselHqe4Tnln/s253m3O5iYeqIcAgEkSLXRv4ZjjBiZ1V8o8HbacPwiTNmtdn8F7XSyA8O3JM76/lEO2VHEZ+2LbPKrL64uG7JgZAjLJO/PC+xqcsyPBdtaWh9uAsLxdy+vLHyJK3hbW0OJKAwy19QzLgnlxGH/z4pOaAAB4mxIioRoDwEkT/WrZbxch2SZ2TAMCgImOr/vz49NXZaSP+5Iwlv/TQs09p6yGxzZ25uqBs22MFfi/IwudmV6LiImPwMA4AGbr0/sO8iUp0RiaLkX9fgTwIpYaaDl5+A6kh7xa23g1+T2WYhKTs5g+BQtApWx+cWAiLCvV87o3/QvVd3ZdF/UhrnD++ttJuyMQEcRv8uLe3djZqgWA2AzprNLgMVfLgNn1TI8eOPoJeWR03C03ZwcZjkAB4v8+e71k8wOtDQCiEudGzazVedVMe/oUM/ceMrOCGO87S82Xp3HPeY58cUaYNfHD9/NvzlV6NXdzD79zhJhZ4jm5NwfnHDcw6cnz7arrB9n6SsyMbJ/2mzt2zO0ysJRDhg18iWORVW9FZ+4R15xzl4/YrZNzQsAQUfIOj6AHNtMEEL49+R+XsJl5rY/FNc72AAAXyElEQVSMdtZFAoD5+xE7vK9WCaqmXmQ1hYjyvqhL7h9lN4jiY1egGzCXN+PjYmDE7NfZ49N40uLLC8/KetxR9la9as7qgSSYCQ/+4asUjbONzlNfKcjcm9FY454+quhWFSYtdnc65bh2hCVsDq5ACqsQSyE0MTkFim4AdkVzGxjZBzOvQILkjPgrjYMARtsaRiEtWWAqUwgcaxTGRHrxSxxW3RoGgLQ9aQLAer/t+r0Xs0pSBQDcPdZndese1vZMAIAk0Z3RcbXcnBVkTGm/brMBQFKGlAdM6rquKrnZ+dKN0wkbQYrY9ebjg803BmL35iRHuCt41vOe+vHn3sNZcf3MZfgs95pvjor35XiMyrk7S83J98AxfdLxKGrmup6TVuu8m3OVXs3dnCv3Jkl0TxF42NVwB5kHM2IYAGD7lQoW7syNqbO+3SKd3lXXfs5KnrHKLsf/ykoXwbHFh6/szpfwlnDIgBBHj0HjE4tXdzkAuEmpadD2enyH2ZExa9RAuGNvfEvjoMd34nMyVrwvv8liARYZrHT3bsbm6MUKzwHYB+veP9RqXkaTdI4wv+rq/uc4XRacQvjChXuwLZO/O/GQZxsvbtH5yI7XpRYevN17ydn6nO1sbs+RPj0xz9673TQBRM4auAgKq9ASxL3wBQAwO6Txs65AGyWvTvdHFqUv9AEhEjuWQ2bnXUZ3tKPsrXrX9HLo7/xJDwDi3yRFAOOq5sbrVo4zgHCXvHHDPENgk9pZeTNdqeNeI8VjWh8AaFUKjwE+tv/26fYfmUgAYO9/65imNd3caOirqqvKn8MjAPDErmr0+X4EVl1fcKjD4rmHGyJmFEtp1RoA4CSLowGzsqX1+mPMeoFzhC9l7vI77mEyj7e1GgfvG9mFNndfpZq5uc4JhgsAxgHHishRr8Q4pwiM916tvz66bj3j+rK9D3BlbqZ0nXUdakwnw1xFXbOyfTZVex8LIOq19DgAxp7G1s7JMB6WcsgAbIiOAZzzK73ES9+d6ZkNCsvbPmcEduM/7ZqxIk30q8krf7FRPXQVEk+Na5rrGxS6uTHQz+5vbfZmfVYOLyoqJoov9P1fdELU3y7hZwjlug60fYEVr0nQGxp2VRDaDHeaG66qTIsfyumu4lyud1NSVxvzgvPzip33E5isPoG8/ML0UJ2x5ncnFboFpz6wutbyqj4WETlH93p/H8tap89Lv6by/Z+XApikZDn6HNXi8pS5dULRkkw+Gs0AEJssWSiXEJqYnslRdNo1/VrrHv6Mq76urepIoynzlNCZSzA/GPLIGw13famOyLvoSh6GiJMzOS2ddjwet8IZi7Dq+rK6OZU3C6yRYhl+5MjK/CYpDFPG9mt9guwzjjSGa+1M0RYRBwCs2trTbcg+tc9xGY6V7optrhlGr1pXnDQjrrZ0Xz56rmf9wU95AEJE4iS09ANWG+sayWF1racvOMahxFtiAYtWOcSR58/4ZbqqqeZdho+du7CD/tqJouEDt6uTn7q5TYINjs2FZb3r2GdXY+tEZ7GUSXH29P1NpQ2proPynzo14Kr6Z3tuN01KKjwWbNFrVQDASLbMGH595CjzF2ZKYwC250btsKi0UgQs5ZABzrUsHi6pyQ0nIUXKdLqqy6NeS5/b2RX89CzxWddCh7MnPPqKG/kSA4+ASanSWCUSLjDSVXu1Qx/OSZeLZs4GNZtcq91lxC3WjBQAIMguv5q9ArvqrfAIV9bzP01j3qYGSYBF8uMdvUUcHio1o9lZUcCk9ua5VgUkW/ZIBfPMrfY03VV8kbx7wESsj3L0uR3+/jFACxwFhbD4kot1oRWHWoZZAJPamvfe7snKL9yTEb/R4/6WNWuaL9dc0xoQkXX8TPHs0pqncS9oPStZsOJWpVVtqDgxCQDASJPnW242JmW744IRnylZeNiCIykpz4kE1M21Cp11CmBtlod9LSeKXn/vC+ueU3XTXbz5L2/mAAAvjHncV3PiBrundF+cx/vsz5cyQP9n9d1G64RxsKW6oKzD2WDQo/LGvQzfrPWJeUKRAAB43NBxzaWKGquswtUjmCdyhBfj1gk7O9pX+25l+8ZCj/bi0fJThVIGprYrDUozOwVM2kzqjtr3cl4/p91y6GNX99GwtJJCKQN0/0mhs2FqXK+oLjp846etjnHDUdPjcc3Vz3tj9+7aCgCWIY1GqdF0N1/vdm6GmXikUWo0940eWQ1xZr6rfF6rNUzB0l1zupWTl5vOXWRz49aJcc215t7YvZnOCONX4iQOAFjGrey4vuVkwZXxfZXlWdOfTS+9HAcAAl6YVddaXqWSlhR6NDIwf6+1A3OTZ78SJQLAC6Fw/C9JyWFXp1NvD5nz6Is5AFQjP8BrTPLOPNelIj5LOm/JJDddJnc9lmelP/XPUteSV1SQV1SQ9y/1Dz2+/bD5qPP7zYPO7eYe91wraaKr7Mjl9jttZ8tv6MGR7pfNbqvh6hnhp2WzV8Q6KuQKFuO9px3nW1FVp+f3u6qc52F1r2Ma6cbtJXK+x3HTnT1ysuVOV9ORGgUQk/2adJFAylPQdhVfQ53ZnychYfEHP/7q8ns5jgQE7Jr2+qLf5qRtz3n9raKCvKKCvTlpsqLD17SmDdJjly8ey/RxaNvfC1qvRl4KCJNsk6Bfs0AlMhAr3RXVXDO62LgJV1z8+08TFY3Xmyt2XrIjNELI+1XCjtyrR1NjZo52xBdUHbPW1HdXvt4fm5lbVTerx3eUrPozftO5S9c/el8BDi8hveRo9pfn2gZnVt6sC+VywWGS3kifNYKbsLe65Meqq12HZT0xW2XnL+ZPd1mMy79wBp9cuFv/Xs7nPHFWQdW/Zs5sjBklq/4sur259ea595sm7Ew4P2ZDVHJmeUuWeMZslChZ9Wf8lkuNfzy8v5blxGxNP3D+DxmiMEt/4yfnOmrfe5u7MaO6ek9MCDDWUfW7etXMHextrOwFELnn2vVcd1gQk/Pxv25svnStTz/Suv/VVi5PfODjizmOgievNpftCnMj0j6sOnbh0nVlzc7XwuITZZWfnZqZTeRnVZQ/qbp0ve7IP294Zfep389cj+//Wa0cMLx3sma1to/IOFr+18qaprr3d4ZGyw99XLrD42/Gu0PmINwqZRR9rFpngNjbFiYhosyc6IYrRjCSNzMXOAldmVEwqelJT68QZ//vqFk/z7dt+lFHBtuVxw7hZ1S3SB/2dbb19Nwf/clq0T/sOnsOXJ4452h+4Y45nxquXCliZdIgLWF6SbDZMdV5CSVrxD9+/mnMrJ+nAZXdMOro/RPxk3O0Kyy+pO62XNt5p0vZ88A0adGPaWvPaZnw6Iz9+SX7vVm8fPyJc0NB21V8ujP7E4sNCNJbkecTV5RRfDmj0DI80KNUqtWakR9No+OWx2YLOLwNvLRt238jT82I8yWKejLmnCooiXppRXd5tr/55Zdf/LoBp0nz4P1RZuGeENaHmgdjL25JXqAFpZ9ZOyt3VmmAsHcuXsubL3NGgs3TDtmkqmZ3tYKdfw2fNc21PBHiD35alxOc1cG23hP7y/sBIKf6ZnEwrr5M/EFbu/1kCwBIKm+Wpy0hj7Uw5zw+Wd3dlZnHp7+yv6DFBkBaUlctD8JVbsjKG7ywu6gNADKOX6vI9GMAvVpJz1B+fPLTmmtxN0skAQqkMF1ptIw2RWR1Pe2QhUp3ZYc51s5b7d3yqyldj8IxsTT1QFZwBlIAwtZHOZN2hmWtA+h/U3arcxE6smxjrnUYGf76FQmk/GD9BudfjWZ0CQUAAUBn5ooZNzlWhQXn7yP9m4l8zgaQrbqWI2/v3PV+TbdHe/tJVU83ADCZkoQgHel/jvl0yITyXKlj7bxnaMIOq7zd5OglUTBz4Z0gI4hyFsU/mVioCWNQMFx7d+fufz7bTUumrASr7YnjgVetOgKD5zoz2QnbMrqE+B2dmSvH+tOPjgd+H3p+vmIpg+J87f1x66RRoXXfl9gGr1xRsAAjKt2/vDbWxA98PGQbZIU5EZjo+GN3cKdGvDdlbG/sYwHE5hYH9/AEb6PziqV/HNR3/9aJccAe5AHfmjH2g7NA0KtWHd4Jj94SCW5i7IoFZ1HRzsagIz88Wan39AM6M1fM1A9/dZXxebPa/XI8X7EUwzhGHyLykn9lnbBZR7QtZW8XtY0jUnrsvOdMNBIsfD5kwoLTpbH2rrpmzTPxiWRS1NYMA4zo2Kk9MUGePd3oumI9NJqe/kryrDCN/MXxQBq7/DVtXELF71y/ebs6Y8WCsw3RWxz3Xg+NXnTMImvfY6MzxE/we7p0debxBQvBnrLq0fp65XdNJ95uAgBOjEhc/OFbWekzZ9uRoOH7IQuJlp8qVL9bf7ZOevUDyZo+vs5mWkzsO+fWQsQfuSkhHKoJ5xVLsJZ/88RLpmHHkpacLRuDbnEPD5u2bAX6AfzFRC2mngeuldMY4cqlSxfwfMVSCImWfnBq4fWfSPBZziGLklX+HuXvVhYxp64e8mZed1B63FFe3mGIlFZUl2WsRINQ/9u0JRHoBqA1jEASpL0byApyt5CVBvf0nbCYOD76zcDwg4f2rKhVWb+ZBI47Xbrg0rEr5zmLpcjzJkpWeTPNOsms1UAKQGRGxfU0hhvm715zK4ezJU6Ebt2SV2sGAHP774rODs35dlzhVxdlPLjnyU8L2Pz2geaC6j7HQ9ZiNkwip/pm8VbzYNuXf1RoB8bMFhZMOD8hLjWvJFeyAZiyGXo6brbf1ejMhkmACRPGil7dX5jjt2X1Vo+7hWzcK1vmX3Y9WMTESRh0sD6t3+yeXT+Tu2WDuyuES/ap3kNz1/nwPzoznewGnSNd6lqJxJ+er3op8jxiwrjha/kGNITDDV9DgRQA8LY6l55s1363xP+67oVIvjCKz/MIfrk8vjDSdQRDOOtdz3J5fGEUf33ouhXYYx/8bNOPmh3/DI4Fmob7zr5VVHT1OyY5+/jR/KwNHHbCrFG2Hv7tiXadpiHv7f0f3TDwth/4sLQ0JQKsTa/T1Ja/X9ZmXmRDwc/VQlYg3uTvkZTlinOu66r/VmtZ6v/l8oVR/BiPYJEJ5wuj3DPtmb9zPcuE84VRfKF/139bGJ2ZTo8eqAEA4aIt/m80SHkpQshKixWnh0M/AbZ/Kd3nASAiraIuDTC1vJ9zxdkejE08UHfcNWEzMuPYeZTvvdwL8Qe/P7VyZclLl1jYe7fQ2lm9s8qZJmupq2EScq817InhAoA03NxZ1sECYHVn36tEpLTiM9cobVLEX3edbGEB2FWNHfrs/NmLBa0pBvWfTQDASUsM6hE+wLmgmaIfGPjuwaRMupQsWnxB3dUCsPdqdp50rt3J8mSVDe4FIUQ5nx3+ee+JhsmwvNN1efOs6bla6Mx0GNb2TAAAk564Cj8F5aUIIStOlJjOAYBR9cDjxV47H0FmdprrMdvZ0euRQ9C3fN4LMJmytCDIgXB5L3p8JSo94bxcAUBUtGT6qbCco6XT5W4hL7282fV4QvfAp19R0LAZhhwtZDN+szXQ+7K4sATnuvIq9dyhZC94rt2J4RudA9NPWTubGyaA6aVLA4nOTOvD7/QAwJGnrMZIK8VShJCVF5+SwQCATq31qeUgL/3NbPfoifbzVp3z4aTqVpsNiC7OCb5ucEk70xcaSgjf/mriWh5ofooJzTf9AMDskMavhZFoXnKaFADsvWrdYq+dT4ho1353+s3W9EWfq+mKsbNVC3Dk+7cHXbfS5/HMtGm6NcDqhfg0xkcI8YOtaXnhHQ0T6OrWfJCZuvQ+7Zx4+d74tsZBAIBBcVuzXyQJheXOnxQskJidufj0QLvm3D8fvrPIWhyqS0VplxbcB0nRx+f3eF2hvCFiwR8zir/e23dZY9j733YBq3b3vwI2JL+aWK9Sw3RHqT8o8mH0h7fjNfmVagULAGz/jc6RVPlGsOqO68NAuGxXyqJrldCZ6X+TWvXqhvgUSxFC/CBElJwZ1tBqQ3+PZiLVl8VuN6a9kdg46KgeZftu9vxWkmm+dU0HcOTZ6V4EZ5z1G18RRi3Ye90xxYkJ58cs+F5/K4l9caHnCADArrnXBwDhslfXwACfQ4R0mxhqLSbuKofyhT4sZh8q3ZUdpmh1JFyN19t18iJ+b0uHCYjPyRAufuWmM9Pv2H6lAgDC8ravUohPsRQhxC+EWXvjWxsHoflaOZ62w4cWjhFpOTKBusPRPL238avB0B+bJoDYt/aleDUqEZNz6mrOgs86prhL9v9LYFoqPBssPbe6AW9jiGDBTZfJL2gVrK29R5cX50u9vFCeK2119uYwtd3oTfpvX6oBJrUw26tcEZ2Zfjbe294HrGrtGtVLEUL8Y+P2A9s4AHpbe31bTIZJlO1zj+WNdRyq6mOBtD1pQVeP8ryy9vf1AmAkb2YurVdTgIVKd+dGAzC13dZM+vQOGzL2ZboCelZzuvyLQUCQvVMS3O21nheWb79RA+Bk5KzeZwXFUoQQPwmTymUxmD3daSmiM/e4U/R2lgWY1N3pwbxKyfNkylFtDUH23mCYU7kkMVl7MxjH2LFvy59zJLtk7us0y9qB6H1ZQd8S4vlgaG/rBRAue3Pb6n1WUCxFCPGbuNcLkziArelPKtanN+Bm5r7jUWsVn7+Xbv2DBKu8UTsMMJLinDUYQ/BS35RHAOht7TL4ts5xwuuFidNfMZm5WWtjiadn3aTqZrMR4GQUvb6a485UL0UI8Z+ItIN74/ubB7ub23Olch/W5gsRZeZENzj7dorfCJ6xJMdKHZMena86awrU65B++Gr2f5498uWDKavB/dTD5qN5bdj8xrmKXw+cPvH5QzwZcz/3qP5I0c2Q2AMfl6VFruYPsEzG9sY+FojPzV9zSSkHYe5BuaJaMXzj5j1Zafqik+/mikjLTmXUjr6dYXm7gqZJx/N9ZpramhUsELv3wCompUB5KUKIf8W+ViKPAIy1V9ydeJZGkF2YFwmAI9yfG8hG57M4VuqweMxsnxzXj5r1VhZT9iejZv1j23QqjrXpR836MTvw809jZv2o2TL9nN3y2Kwf/fEn37IjAcL23KgdBsJlJd7PzA82XOmBIhEDu6Luht6nXz6Tkns8gQOAm3JwdxD053R6ns9Mq+p6oxEIyyl6LWZ1J0P8zS+//LKqGySEPG+smtq8ypaJsJzqPxQHTWNAx2ypgC2NvKZN6ZreOtEwFpZz5n8XJ/mQ0QkaU+b2w0Vnh4LrNKAz02f6K28XtIwLdpRfOypZ5TQh5aUIIX7GlRR+KIuBreVc46Bv06ZIMDE01zaMISa7rHBNB1IAQvhZxwulDFRXznet5fVSCAAMt37SMo5IWUXRagdSoFiKELIKmMT84/IIjHVUXdX6VoROgsVwa1WjEZGy4wXiYKkQWo4o2fEiEcPqqs50WBZ/NQlWU0bFR82DiMg5mhu/9GUWlo9iKULIKuDEF505lsAxKGrq1T6t0LfSBLEihuEnxAZPBdZaYNXWnmgeZETHPi4MyBXLH3jZ5ReyI9iBxiqFOdD7AtCZ6Qvb4KWKmmGOtORMcWJgcqVUL0UIWS1Wbe07J1smRMcazmRFBXpnyJLZVB+9XdYdllN9MVBXLH+ZMrd/8P7ZgWfxR3sOsD01O0/3CbJPXT0UsFwp5aUIIauFKy6+WCYP1509Uj/o26Q+EjgmRWV5d1jW8YDd+vtRCD/ro6rSBFtLeWX7aKB3hizJaEd5VZ8gpbS6JJCDzhRLEUJWUaS09GKZHB2HPuwwraG51s89U2d12SVz5vEzxzKf0cll3Fj5R1WlWx5RoL+WjPadPVJvSiqtrkgVBHRFSBrjI4Ssuglt+zXVusz8DFGwtEggT2VWXW17kpibtfWZy0jNMmVUNXYY4vbmJNNSRWuA5V7zzTHxvmwxN9BLa1MsRQghhBDiOxrjI4QQQgjxHcVShBBCCCG+o1iKEEIIIcR3FEsRQgghhPiOYilCCCGEEN9RLEUIIYQQ4juKpQghhBBCfEexFCGEEEKI7yiWIoQQQgjxHcVShBBCCCG+o1iKEEIIIcR3FEsRQgghhPiOYilCCCGEEN9RLEUIIYQQ4juKpQghhBBCfEexFCGEEEKI7yiWIoQQQgjxHcVShBBCCCG+o1iKEEIIIcR3/x+EK6iqJj6pmQAAAABJRU5ErkJggg==)\n",
        "\n",
        "###Where:\n",
        "1. v is the number of votes for the movie;\n",
        "\n",
        "2. m is the minimum votes required to be listed in the chart;\n",
        "\n",
        "3. R is the average rating of the movie;\n",
        "\n",
        "4. C is the mean vote across the whole report.\n",
        "###Let us use cutoff m as the 90th percentile."
      ],
      "metadata": {
        "id": "Unh1Y_t9IQNc"
      }
    },
    {
      "cell_type": "code",
      "source": [
        "# Calculate mean of vote average column\n",
        "C = movies_df['vote_average'].mean()\n",
        "print(C)"
      ],
      "metadata": {
        "id": "WvERrEAXwXYL",
        "colab": {
          "base_uri": "https://localhost:8080/"
        },
        "outputId": "efa1ca77-76f9-408a-a641-65d4286d56a8"
      },
      "execution_count": null,
      "outputs": [
        {
          "output_type": "stream",
          "name": "stdout",
          "text": [
            "5.618207215134185\n"
          ]
        }
      ]
    },
    {
      "cell_type": "code",
      "source": [
        "# Calculate the minimum number of votes required to be in the chart, m\n",
        "m = movies_df['vote_count'].quantile(0.90)\n",
        "print(m)"
      ],
      "metadata": {
        "id": "vv6H8yRkwmjT",
        "colab": {
          "base_uri": "https://localhost:8080/"
        },
        "outputId": "368a10ea-2f6c-47ce-806e-de0ff4237a87"
      },
      "execution_count": null,
      "outputs": [
        {
          "output_type": "stream",
          "name": "stdout",
          "text": [
            "160.0\n"
          ]
        }
      ]
    },
    {
      "cell_type": "markdown",
      "source": [
        "###So, the number of votes for the movie at 90 percentile is 160. Lets filter out all the movies with vote count more than 160."
      ],
      "metadata": {
        "id": "U7WTRpIRMrFf"
      }
    },
    {
      "cell_type": "code",
      "source": [
        "# Filter out all qualified movies into a new DataFrame\n",
        "q_movies = movies_df.copy().loc[movies_df['vote_count'] >= m]\n",
        "q_movies.shape"
      ],
      "metadata": {
        "id": "3YR5uwCqw1rX",
        "colab": {
          "base_uri": "https://localhost:8080/"
        },
        "outputId": "c4df3887-066d-4a57-c6b7-96b187c51f90"
      },
      "execution_count": null,
      "outputs": [
        {
          "output_type": "execute_result",
          "data": {
            "text/plain": [
              "(4555, 24)"
            ]
          },
          "metadata": {},
          "execution_count": 6
        }
      ]
    },
    {
      "cell_type": "code",
      "source": [
        "# Movies data shape\n",
        "movies_df.shape"
      ],
      "metadata": {
        "id": "mxfObZkQxKGW",
        "colab": {
          "base_uri": "https://localhost:8080/"
        },
        "outputId": "ad8793d7-4b9e-4ad3-a854-41077b7f463e"
      },
      "execution_count": null,
      "outputs": [
        {
          "output_type": "execute_result",
          "data": {
            "text/plain": [
              "(45466, 24)"
            ]
          },
          "metadata": {},
          "execution_count": 7
        }
      ]
    },
    {
      "cell_type": "markdown",
      "source": [
        "###From the above output, it is clear that there are around 10% movies with vote count more than 160 and qualify to be on this list."
      ],
      "metadata": {
        "id": "KxqpN5BaNWCy"
      }
    },
    {
      "cell_type": "code",
      "source": [
        "# Function that computes the weighted rating of each movie\n",
        "def weighted_rating(x, m=m, C=C):\n",
        "    v = x['vote_count']\n",
        "    R = x['vote_average']\n",
        "    # Calculation based on the IMDB formula\n",
        "    return (v/(v+m) * R) + (m/(m+v) * C)"
      ],
      "metadata": {
        "id": "0Clj54dqxSG3"
      },
      "execution_count": null,
      "outputs": []
    },
    {
      "cell_type": "code",
      "source": [
        "# Define a new feature 'score' and calculate its value with `weighted_rating()`\n",
        "q_movies['score'] = q_movies.apply(weighted_rating, axis=1)"
      ],
      "metadata": {
        "id": "XLpPfHpBxl-j"
      },
      "execution_count": null,
      "outputs": []
    },
    {
      "cell_type": "code",
      "source": [
        "#Sort movies based on score calculated above\n",
        "q_movies = q_movies.sort_values('score', ascending=False)\n",
        "\n",
        "#Print the top 15 movies\n",
        "q_movies[['title', 'vote_count', 'vote_average', 'score']].head(20)"
      ],
      "metadata": {
        "id": "moxCVpX5xrau",
        "colab": {
          "base_uri": "https://localhost:8080/",
          "height": 677
        },
        "outputId": "bc589fcd-7f90-4d55-be0c-746acd038eb8"
      },
      "execution_count": null,
      "outputs": [
        {
          "output_type": "execute_result",
          "data": {
            "text/plain": [
              "                                 title  vote_count  vote_average     score\n",
              "314           The Shawshank Redemption      8358.0           8.5  8.445869\n",
              "834                      The Godfather      6024.0           8.5  8.425439\n",
              "10309      Dilwale Dulhania Le Jayenge       661.0           9.1  8.421453\n",
              "12481                  The Dark Knight     12269.0           8.3  8.265477\n",
              "2843                        Fight Club      9678.0           8.3  8.256385\n",
              "292                       Pulp Fiction      8670.0           8.3  8.251406\n",
              "522                   Schindler's List      4436.0           8.3  8.206639\n",
              "23673                         Whiplash      4376.0           8.3  8.205404\n",
              "5481                     Spirited Away      3968.0           8.3  8.196055\n",
              "2211                 Life Is Beautiful      3643.0           8.3  8.187171\n",
              "1178            The Godfather: Part II      3418.0           8.3  8.180076\n",
              "1152   One Flew Over the Cuckoo's Nest      3001.0           8.3  8.164256\n",
              "351                       Forrest Gump      8147.0           8.2  8.150272\n",
              "1154           The Empire Strikes Back      5998.0           8.2  8.132919\n",
              "1176                            Psycho      2405.0           8.3  8.132715\n",
              "18465                 The Intouchables      5410.0           8.2  8.125837\n",
              "40251                       Your Name.      1030.0           8.5  8.112532\n",
              "289             Leon: The Professional      4293.0           8.2  8.107234\n",
              "3030                    The Green Mile      4166.0           8.2  8.104511\n",
              "1170                        GoodFellas      3211.0           8.2  8.077459"
            ],
            "text/html": [
              "\n",
              "  <div id=\"df-09d5272e-0999-4a92-895a-73488c462468\">\n",
              "    <div class=\"colab-df-container\">\n",
              "      <div>\n",
              "<style scoped>\n",
              "    .dataframe tbody tr th:only-of-type {\n",
              "        vertical-align: middle;\n",
              "    }\n",
              "\n",
              "    .dataframe tbody tr th {\n",
              "        vertical-align: top;\n",
              "    }\n",
              "\n",
              "    .dataframe thead th {\n",
              "        text-align: right;\n",
              "    }\n",
              "</style>\n",
              "<table border=\"1\" class=\"dataframe\">\n",
              "  <thead>\n",
              "    <tr style=\"text-align: right;\">\n",
              "      <th></th>\n",
              "      <th>title</th>\n",
              "      <th>vote_count</th>\n",
              "      <th>vote_average</th>\n",
              "      <th>score</th>\n",
              "    </tr>\n",
              "  </thead>\n",
              "  <tbody>\n",
              "    <tr>\n",
              "      <th>314</th>\n",
              "      <td>The Shawshank Redemption</td>\n",
              "      <td>8358.0</td>\n",
              "      <td>8.5</td>\n",
              "      <td>8.445869</td>\n",
              "    </tr>\n",
              "    <tr>\n",
              "      <th>834</th>\n",
              "      <td>The Godfather</td>\n",
              "      <td>6024.0</td>\n",
              "      <td>8.5</td>\n",
              "      <td>8.425439</td>\n",
              "    </tr>\n",
              "    <tr>\n",
              "      <th>10309</th>\n",
              "      <td>Dilwale Dulhania Le Jayenge</td>\n",
              "      <td>661.0</td>\n",
              "      <td>9.1</td>\n",
              "      <td>8.421453</td>\n",
              "    </tr>\n",
              "    <tr>\n",
              "      <th>12481</th>\n",
              "      <td>The Dark Knight</td>\n",
              "      <td>12269.0</td>\n",
              "      <td>8.3</td>\n",
              "      <td>8.265477</td>\n",
              "    </tr>\n",
              "    <tr>\n",
              "      <th>2843</th>\n",
              "      <td>Fight Club</td>\n",
              "      <td>9678.0</td>\n",
              "      <td>8.3</td>\n",
              "      <td>8.256385</td>\n",
              "    </tr>\n",
              "    <tr>\n",
              "      <th>292</th>\n",
              "      <td>Pulp Fiction</td>\n",
              "      <td>8670.0</td>\n",
              "      <td>8.3</td>\n",
              "      <td>8.251406</td>\n",
              "    </tr>\n",
              "    <tr>\n",
              "      <th>522</th>\n",
              "      <td>Schindler's List</td>\n",
              "      <td>4436.0</td>\n",
              "      <td>8.3</td>\n",
              "      <td>8.206639</td>\n",
              "    </tr>\n",
              "    <tr>\n",
              "      <th>23673</th>\n",
              "      <td>Whiplash</td>\n",
              "      <td>4376.0</td>\n",
              "      <td>8.3</td>\n",
              "      <td>8.205404</td>\n",
              "    </tr>\n",
              "    <tr>\n",
              "      <th>5481</th>\n",
              "      <td>Spirited Away</td>\n",
              "      <td>3968.0</td>\n",
              "      <td>8.3</td>\n",
              "      <td>8.196055</td>\n",
              "    </tr>\n",
              "    <tr>\n",
              "      <th>2211</th>\n",
              "      <td>Life Is Beautiful</td>\n",
              "      <td>3643.0</td>\n",
              "      <td>8.3</td>\n",
              "      <td>8.187171</td>\n",
              "    </tr>\n",
              "    <tr>\n",
              "      <th>1178</th>\n",
              "      <td>The Godfather: Part II</td>\n",
              "      <td>3418.0</td>\n",
              "      <td>8.3</td>\n",
              "      <td>8.180076</td>\n",
              "    </tr>\n",
              "    <tr>\n",
              "      <th>1152</th>\n",
              "      <td>One Flew Over the Cuckoo's Nest</td>\n",
              "      <td>3001.0</td>\n",
              "      <td>8.3</td>\n",
              "      <td>8.164256</td>\n",
              "    </tr>\n",
              "    <tr>\n",
              "      <th>351</th>\n",
              "      <td>Forrest Gump</td>\n",
              "      <td>8147.0</td>\n",
              "      <td>8.2</td>\n",
              "      <td>8.150272</td>\n",
              "    </tr>\n",
              "    <tr>\n",
              "      <th>1154</th>\n",
              "      <td>The Empire Strikes Back</td>\n",
              "      <td>5998.0</td>\n",
              "      <td>8.2</td>\n",
              "      <td>8.132919</td>\n",
              "    </tr>\n",
              "    <tr>\n",
              "      <th>1176</th>\n",
              "      <td>Psycho</td>\n",
              "      <td>2405.0</td>\n",
              "      <td>8.3</td>\n",
              "      <td>8.132715</td>\n",
              "    </tr>\n",
              "    <tr>\n",
              "      <th>18465</th>\n",
              "      <td>The Intouchables</td>\n",
              "      <td>5410.0</td>\n",
              "      <td>8.2</td>\n",
              "      <td>8.125837</td>\n",
              "    </tr>\n",
              "    <tr>\n",
              "      <th>40251</th>\n",
              "      <td>Your Name.</td>\n",
              "      <td>1030.0</td>\n",
              "      <td>8.5</td>\n",
              "      <td>8.112532</td>\n",
              "    </tr>\n",
              "    <tr>\n",
              "      <th>289</th>\n",
              "      <td>Leon: The Professional</td>\n",
              "      <td>4293.0</td>\n",
              "      <td>8.2</td>\n",
              "      <td>8.107234</td>\n",
              "    </tr>\n",
              "    <tr>\n",
              "      <th>3030</th>\n",
              "      <td>The Green Mile</td>\n",
              "      <td>4166.0</td>\n",
              "      <td>8.2</td>\n",
              "      <td>8.104511</td>\n",
              "    </tr>\n",
              "    <tr>\n",
              "      <th>1170</th>\n",
              "      <td>GoodFellas</td>\n",
              "      <td>3211.0</td>\n",
              "      <td>8.2</td>\n",
              "      <td>8.077459</td>\n",
              "    </tr>\n",
              "  </tbody>\n",
              "</table>\n",
              "</div>\n",
              "      <button class=\"colab-df-convert\" onclick=\"convertToInteractive('df-09d5272e-0999-4a92-895a-73488c462468')\"\n",
              "              title=\"Convert this dataframe to an interactive table.\"\n",
              "              style=\"display:none;\">\n",
              "        \n",
              "  <svg xmlns=\"http://www.w3.org/2000/svg\" height=\"24px\"viewBox=\"0 0 24 24\"\n",
              "       width=\"24px\">\n",
              "    <path d=\"M0 0h24v24H0V0z\" fill=\"none\"/>\n",
              "    <path d=\"M18.56 5.44l.94 2.06.94-2.06 2.06-.94-2.06-.94-.94-2.06-.94 2.06-2.06.94zm-11 1L8.5 8.5l.94-2.06 2.06-.94-2.06-.94L8.5 2.5l-.94 2.06-2.06.94zm10 10l.94 2.06.94-2.06 2.06-.94-2.06-.94-.94-2.06-.94 2.06-2.06.94z\"/><path d=\"M17.41 7.96l-1.37-1.37c-.4-.4-.92-.59-1.43-.59-.52 0-1.04.2-1.43.59L10.3 9.45l-7.72 7.72c-.78.78-.78 2.05 0 2.83L4 21.41c.39.39.9.59 1.41.59.51 0 1.02-.2 1.41-.59l7.78-7.78 2.81-2.81c.8-.78.8-2.07 0-2.86zM5.41 20L4 18.59l7.72-7.72 1.47 1.35L5.41 20z\"/>\n",
              "  </svg>\n",
              "      </button>\n",
              "      \n",
              "  <style>\n",
              "    .colab-df-container {\n",
              "      display:flex;\n",
              "      flex-wrap:wrap;\n",
              "      gap: 12px;\n",
              "    }\n",
              "\n",
              "    .colab-df-convert {\n",
              "      background-color: #E8F0FE;\n",
              "      border: none;\n",
              "      border-radius: 50%;\n",
              "      cursor: pointer;\n",
              "      display: none;\n",
              "      fill: #1967D2;\n",
              "      height: 32px;\n",
              "      padding: 0 0 0 0;\n",
              "      width: 32px;\n",
              "    }\n",
              "\n",
              "    .colab-df-convert:hover {\n",
              "      background-color: #E2EBFA;\n",
              "      box-shadow: 0px 1px 2px rgba(60, 64, 67, 0.3), 0px 1px 3px 1px rgba(60, 64, 67, 0.15);\n",
              "      fill: #174EA6;\n",
              "    }\n",
              "\n",
              "    [theme=dark] .colab-df-convert {\n",
              "      background-color: #3B4455;\n",
              "      fill: #D2E3FC;\n",
              "    }\n",
              "\n",
              "    [theme=dark] .colab-df-convert:hover {\n",
              "      background-color: #434B5C;\n",
              "      box-shadow: 0px 1px 3px 1px rgba(0, 0, 0, 0.15);\n",
              "      filter: drop-shadow(0px 1px 2px rgba(0, 0, 0, 0.3));\n",
              "      fill: #FFFFFF;\n",
              "    }\n",
              "  </style>\n",
              "\n",
              "      <script>\n",
              "        const buttonEl =\n",
              "          document.querySelector('#df-09d5272e-0999-4a92-895a-73488c462468 button.colab-df-convert');\n",
              "        buttonEl.style.display =\n",
              "          google.colab.kernel.accessAllowed ? 'block' : 'none';\n",
              "\n",
              "        async function convertToInteractive(key) {\n",
              "          const element = document.querySelector('#df-09d5272e-0999-4a92-895a-73488c462468');\n",
              "          const dataTable =\n",
              "            await google.colab.kernel.invokeFunction('convertToInteractive',\n",
              "                                                     [key], {});\n",
              "          if (!dataTable) return;\n",
              "\n",
              "          const docLinkHtml = 'Like what you see? Visit the ' +\n",
              "            '<a target=\"_blank\" href=https://colab.research.google.com/notebooks/data_table.ipynb>data table notebook</a>'\n",
              "            + ' to learn more about interactive tables.';\n",
              "          element.innerHTML = '';\n",
              "          dataTable['output_type'] = 'display_data';\n",
              "          await google.colab.output.renderOutput(dataTable, element);\n",
              "          const docLink = document.createElement('div');\n",
              "          docLink.innerHTML = docLinkHtml;\n",
              "          element.appendChild(docLink);\n",
              "        }\n",
              "      </script>\n",
              "    </div>\n",
              "  </div>\n",
              "  "
            ]
          },
          "metadata": {},
          "execution_count": 10
        }
      ]
    },
    {
      "cell_type": "markdown",
      "source": [
        "# <u><b> Content-Based Recommender : Plot Description Based Recommender </b></u>\n",
        "\n",
        "###In this section, we will learn how to build a system that recommends movies that are similar to a particular movie. To achieve this, you will compute pairwise cosine similarity scores for all movies based on their plot descriptions and recommend movies based on that similarity score threshold. We will use the \"overview\" variable here as the plot describer."
      ],
      "metadata": {
        "id": "nCpiwkr1Nyv4"
      }
    },
    {
      "cell_type": "code",
      "source": [
        "#Print plot overviews of the first 5 movies.\n",
        "movies_df['overview'].head()"
      ],
      "metadata": {
        "id": "dEJKOCO90MWv",
        "colab": {
          "base_uri": "https://localhost:8080/"
        },
        "outputId": "17d26692-89ca-4ff3-dec7-a35da18da5a6"
      },
      "execution_count": null,
      "outputs": [
        {
          "output_type": "execute_result",
          "data": {
            "text/plain": [
              "0    Led by Woody, Andy's toys live happily in his ...\n",
              "1    When siblings Judy and Peter discover an encha...\n",
              "2    A family wedding reignites the ancient feud be...\n",
              "3    Cheated on, mistreated and stepped on, the wom...\n",
              "4    Just when George Banks has recovered from his ...\n",
              "Name: overview, dtype: object"
            ]
          },
          "metadata": {},
          "execution_count": 11
        }
      ]
    },
    {
      "cell_type": "markdown",
      "metadata": {
        "id": "FPrcSUcUOrPn"
      },
      "source": [
        "## <u> Obtain vector embeddings of each word in our corpus</u>\n",
        "###Now we deal with Natural Language Processing problem. Hence we need to extract some kind of features from the above text data before you can compute the similarity and/or dissimilarity between them.\n",
        "### To do this we use the TF-IDF Vectorizer technique \n",
        "\n",
        "* ### Term Frequency (TF) - How many times a particular word appears in a single document?\n",
        "* ### Inverse Document Frequency (IDF) - It is calculated by taking the log of {number of docs in your corpus divided by the number of docs in which this term appears}. This takes care of words which are present rarely across the corpus.\n",
        "\n",
        "### This will give us a matrix where each column represents a word in the overview vocabulary, each row represents a movie.\n",
        "\n",
        "###In its essence, the TF-IDF score is the frequency of a word occurring in a document, down-weighted by the number of documents in which it occurs. This is done to reduce the importance of words that frequently occur in plot overviews and, therefore, their significance in computing the final similarity score."
      ]
    },
    {
      "cell_type": "code",
      "source": [
        "#Define a TF-IDF Vectorizer Object. Remove all english stop words such as 'the', 'a'\n",
        "tfidf = TfidfVectorizer(stop_words='english')\n",
        "\n",
        "#Replace NaN with an empty string\n",
        "movies_df['overview'] = movies_df['overview'].fillna('')\n",
        "\n",
        "#Construct the required TF-IDF matrix by fitting and transforming the data\n",
        "tfidf_matrix = tfidf.fit_transform(movies_df['overview'])\n",
        "\n",
        "#Output the shape of tfidf_matrix\n",
        "tfidf_matrix.shape"
      ],
      "metadata": {
        "id": "FQSOrQcr05HW",
        "colab": {
          "base_uri": "https://localhost:8080/"
        },
        "outputId": "51981286-95b7-488b-bfae-5490394ec604"
      },
      "execution_count": null,
      "outputs": [
        {
          "output_type": "execute_result",
          "data": {
            "text/plain": [
              "(45466, 75827)"
            ]
          },
          "metadata": {},
          "execution_count": 12
        }
      ]
    },
    {
      "cell_type": "markdown",
      "source": [
        "###We observe that 75,827 different vocabularies or words in our dataset have 45,000 movies.\n",
        "###We will be using the cosine similarity to calculate a numeric quantity that denotes the similarity between two movies. We use the cosine similarity score since it is relatively easy and fast to calculate (especially when used in conjunction with TF-IDF scores).\n",
        "###Since we have used the TF-IDF vectorizer, calculating the dot product between each vector will directly give us the cosine similarity score. Therefore, you will use sklearn's linear_kernel() instead of cosine_similarities() since it is faster."
      ],
      "metadata": {
        "id": "GgFjy1MSRU2o"
      }
    },
    {
      "cell_type": "code",
      "source": [
        "# Compute the cosine similarity matrix\n",
        "cosine_sim = linear_kernel(tfidf_matrix[0:30000], tfidf_matrix[0:30000])"
      ],
      "metadata": {
        "id": "Z_kKzfIO1yTD"
      },
      "execution_count": null,
      "outputs": []
    },
    {
      "cell_type": "code",
      "source": [
        "cosine_sim.shape"
      ],
      "metadata": {
        "id": "hbD1dzeI3Tp0",
        "colab": {
          "base_uri": "https://localhost:8080/"
        },
        "outputId": "a54ca9d9-83b6-488a-8696-f02a2097c6cf"
      },
      "execution_count": null,
      "outputs": [
        {
          "output_type": "execute_result",
          "data": {
            "text/plain": [
              "(30000, 30000)"
            ]
          },
          "metadata": {},
          "execution_count": 14
        }
      ]
    },
    {
      "cell_type": "markdown",
      "source": [
        "###This would return a matrix of shape 30000x30000, which means each movie overview cosine similarity score with every other movie overview. Hence, each movie will be a 1x30000 column vector where each column will be a similarity score with each movie."
      ],
      "metadata": {
        "id": "eZAHcHbRTSbr"
      }
    },
    {
      "cell_type": "code",
      "source": [
        "cosine_sim[1]"
      ],
      "metadata": {
        "id": "FCpRmb1s3a3W",
        "colab": {
          "base_uri": "https://localhost:8080/"
        },
        "outputId": "af08dd66-1b1f-43c1-99ea-db135ad10bdc"
      },
      "execution_count": null,
      "outputs": [
        {
          "output_type": "execute_result",
          "data": {
            "text/plain": [
              "array([0.01504121, 1.        , 0.04681953, ..., 0.        , 0.        ,\n",
              "       0.02303661])"
            ]
          },
          "metadata": {},
          "execution_count": 15
        }
      ]
    },
    {
      "cell_type": "code",
      "source": [
        "def get_recommendations(title, cosine_sim=cosine_sim):\n",
        "\n",
        "  #Construct a reverse map of indices and movie titles\n",
        "  indices = pd.Series(movies_df.index, index=movies_df['title']).drop_duplicates()\n",
        "    \n",
        "  # Get the index of the movie that matches the title\n",
        "  idx = indices[title]\n",
        "\n",
        "  # Get the pairwsie similarity scores of all movies with that movie\n",
        "  sim_scores = list(enumerate(cosine_sim[idx]))\n",
        "\n",
        "  # Sort the movies based on the similarity scores. Returns list of tuples of indices and the similarity score in sorted manner.\n",
        "  sim_scores = sorted(sim_scores, key=lambda x: x[1], reverse=True)\n",
        "\n",
        "  # Get the scores of the 10 most similar movies\n",
        "  sim_scores = sim_scores[1:11]\n",
        "\n",
        "  # Get the movie indices\n",
        "  movie_indices = [i[0] for i in sim_scores]\n",
        "\n",
        "  # Return the top 10 most similar movies\n",
        "  return movies_df['title'].iloc[movie_indices]"
      ],
      "metadata": {
        "id": "AaBIWtYX4_v0"
      },
      "execution_count": null,
      "outputs": []
    },
    {
      "cell_type": "code",
      "source": [
        "# The Godfather, The Dark Knight Rises, The Shawshank Redemption, Baghban\n",
        "get_recommendations('Baghban')"
      ],
      "metadata": {
        "id": "pLBkusAz5a1i",
        "colab": {
          "base_uri": "https://localhost:8080/"
        },
        "outputId": "5c8edc7f-1412-4c55-c706-a944a605916b"
      },
      "execution_count": null,
      "outputs": [
        {
          "output_type": "execute_result",
          "data": {
            "text/plain": [
              "16433         Mujhse Dosti Karoge!\n",
              "15020                Chalte Chalte\n",
              "16350    Chori Chori Chupke Chupke\n",
              "16459          Hum Aapke Hain Koun\n",
              "22833              Pretty/Handsome\n",
              "15346           Dhoondte Reh Jaoge\n",
              "14648              My One and Only\n",
              "13168        Four Men and a Prayer\n",
              "21424             Cameron's Closet\n",
              "1174                           Ran\n",
              "Name: title, dtype: object"
            ]
          },
          "metadata": {},
          "execution_count": 21
        }
      ]
    }
  ]
}